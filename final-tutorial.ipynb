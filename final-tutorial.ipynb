{
 "cells": [
  {
   "cell_type": "code",
   "execution_count": null,
   "metadata": {},
   "outputs": [],
   "source": [
    "# standard Python libraries for data science\n",
    "import numpy as np\n",
    "import pandas as pd\n",
    "import sklearn\n",
    "from sklearn import linear_model\n",
    "\n",
    "# Python libraries for HTTP requests of data from web pages\n",
    "import requests\n",
    "from bs4 import BeautifulSoup\n",
    "\n",
    "# Python libraries for graphing and visualizations\n",
    "import matplotlib.pyplot as plt\n",
    "import statsmodels.api\n",
    "import statsmodels.formula.api as sm\n",
    "import seaborn\n",
    "import folium"
   ]
  }
 ],
 "metadata": {
  "language_info": {
   "name": "python"
  }
 },
 "nbformat": 4,
 "nbformat_minor": 2
}
