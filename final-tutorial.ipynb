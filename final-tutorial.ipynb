{
 "cells": [
  {
   "cell_type": "markdown",
   "metadata": {},
   "source": [
    "<style>\n",
    "    h1, h2 {\n",
    "        text-align: center;\n",
    "    }\n",
    "</style>"
   ]
  },
  {
   "cell_type": "markdown",
   "metadata": {},
   "source": [
    "# An Analysis of the Relationship Vehicle Emissions and Air Quality\n",
    "## Sophia Lin"
   ]
  },
  {
   "cell_type": "markdown",
   "metadata": {},
   "source": [
    "### Introduction:\n",
    "Air quality and vehicle emissions are critical factors that impact the environment and public health. Poor air quality, characterized by high levels of pollutants such as ozone, nitrogen dioxide, and carbon monoxide, can lead to various respiratory and cardiovascular diseases. Vehicle emissions, particularly carbon dioxide (CO2) emissions, contribute significantly to greenhouse gas levels and climate change. Understanding the relationships between air quality, vehicle emissions, and fuel efficiency is crucial for developing effective strategies to mitigate their negative impacts.\n",
    "Data science plays a vital role in analyzing and interpreting the vast amounts of data related to air quality and vehicle emissions. By applying statistical techniques and machine learning algorithms, data scientists can uncover patterns, trends, and relationships that can inform policy decisions and drive technological advancements. Through data-driven insights, we can identify the most influential factors affecting air quality and vehicle emissions, enabling targeted interventions and regulations to improve environmental sustainability and public well-being.\n",
    "\n",
    "__[Click to learn more from the EPA](https://www.epa.gov/air-trends)__"
   ]
  },
  {
   "cell_type": "markdown",
   "metadata": {},
   "source": [
    "### Hypotheses:\n",
    "In this study, we hypothesize that there are significant relationships between air quality indicators (ozone, nitrogen dioxide, and carbon monoxide levels), vehicle fuel efficiency (measured by real-world miles per gallon), and vehicle emissions (particularly CO2 emissions). We expect to find correlations between these variables, with higher fuel efficiency associated with lower CO2 emissions and better air quality. Additionally, we hypothesize that certain vehicle characteristics, such as weight and horsepower, may have an impact on fuel efficiency and emissions."
   ]
  },
  {
   "cell_type": "code",
   "execution_count": 1,
   "metadata": {},
   "outputs": [
    {
     "name": "stderr",
     "output_type": "stream",
     "text": [
      "C:\\Users\\cqlin\\AppData\\Local\\Temp\\ipykernel_21188\\3355745449.py:3: DeprecationWarning: \n",
      "Pyarrow will become a required dependency of pandas in the next major release of pandas (pandas 3.0),\n",
      "(to allow more performant data types, such as the Arrow string type, and better interoperability with other libraries)\n",
      "but was not found to be installed on your system.\n",
      "If this would cause problems for you,\n",
      "please provide us feedback at https://github.com/pandas-dev/pandas/issues/54466\n",
      "        \n",
      "  import pandas as pd\n"
     ]
    }
   ],
   "source": [
    "# standard Python libraries for data science\n",
    "import numpy as np\n",
    "import pandas as pd\n",
    "import sklearn\n",
    "from sklearn import linear_model\n",
    "\n",
    "# Python libraries for analysis\n",
    "from sklearn.preprocessing import MinMaxScaler, StandardScaler\n",
    "from sklearn.model_selection import train_test_split\n",
    "from sklearn.linear_model import LinearRegression\n",
    "from sklearn.linear_model import Ridge\n",
    "from sklearn.metrics import r2_score, mean_squared_error\n",
    "from sklearn.ensemble import RandomForestRegressor\n",
    "from sklearn.model_selection import GridSearchCV\n",
    "\n",
    "# Python libraries for graphing and visualizations\n",
    "import matplotlib.pyplot as plt\n",
    "import seaborn as sns\n",
    "import statsmodels.api\n",
    "import statsmodels.formula.api as sm\n",
    "import seaborn"
   ]
  },
  {
   "cell_type": "markdown",
   "metadata": {},
   "source": [
    "### Data Collection:\n",
    "To conduct our analysis, we collected data from various sources. We obtained air quality data, including ozone, nitrogen dioxide, and carbon monoxide levels, from the National Ambient Air Quality Standards (NAAQS) database. Vehicle fuel efficiency and emissions data were gathered from the U.S. Environmental Protection Agency's (EPA) Fuel Economy database. We focused on data from 1980 to 2022 to capture long-term trends and changes in air quality and vehicle technologies."
   ]
  },
  {
   "cell_type": "code",
   "execution_count": 2,
   "metadata": {},
   "outputs": [
    {
     "name": "stdout",
     "output_type": "stream",
     "text": [
      "Ozone Data:\n",
      "   Year  Ozone_Mean\n",
      "0  1980    0.093561\n",
      "1  1981    0.091314\n",
      "2  1982    0.089519\n",
      "3  1983    0.096831\n",
      "4  1984    0.088090\n",
      "\n",
      "Nitrogen Dioxide Data:\n",
      "   Year    NO2_Mean\n",
      "0  1980  112.900000\n",
      "1  1981  109.900000\n",
      "2  1982  110.100000\n",
      "3  1983   99.550000\n",
      "4  1984   93.058333\n",
      "\n",
      "Carbon Monoxide Data:\n",
      "   Year   CO_Mean\n",
      "0  1980  9.703125\n",
      "1  1981  9.560937\n",
      "2  1982  8.893750\n",
      "3  1983  9.412500\n",
      "4  1984  8.665625\n",
      "\n",
      "Vehicle Fuel Efficiency and Emissions Data:\n",
      "  Model Year Regulatory Class Vehicle Type Production Share  Real-World MPG  \\\n",
      "0       1975              All          All         1.000000        13.05970   \n",
      "1       1975              Car      All Car         0.806646        13.45483   \n",
      "2       1975              Car  Sedan/Wagon         0.805645        13.45833   \n",
      "3       1975            Truck    All Truck         0.193354        11.63431   \n",
      "4       1975            Truck       Pickup         0.131322        11.91476   \n",
      "\n",
      "   Real-World MPG_City  Real-World MPG_Hwy  Real-World CO2 (g/mi)  \\\n",
      "0             12.01552            14.61167              680.59612   \n",
      "1             12.31413            15.17266              660.63740   \n",
      "2             12.31742            15.17643              660.46603   \n",
      "3             10.91165            12.65900              763.86134   \n",
      "4             11.07827            13.12613              745.88139   \n",
      "\n",
      "   Real-World CO2_City (g/mi)  Real-World CO2_Hwy (g/mi)  Weight (lbs)  \\\n",
      "0                   739.73800                  608.31160      4060.399   \n",
      "1                   721.82935                  585.84724      4057.494   \n",
      "2                   721.63673                  585.70185      4057.565   \n",
      "3                   814.45060                  702.03002      4072.518   \n",
      "4                   802.20090                  677.04643      4011.977   \n",
      "\n",
      "   Horsepower (HP) Footprint (sq. ft.)  \n",
      "0         137.3346                   -  \n",
      "1         136.1964                   -  \n",
      "2         136.2256                   -  \n",
      "3         142.0826                   -  \n",
      "4         140.9365                   -  \n"
     ]
    }
   ],
   "source": [
    "# Read the ozone data and select specific columns\n",
    "ozone_data = pd.read_csv('OzoneNational.csv')[['Year', 'Mean']]\n",
    "ozone_data.rename(columns={'Mean': 'Ozone_Mean'}, inplace=True)\n",
    "\n",
    "# Read the nitrogen dioxide data and select specific columns\n",
    "no2_data = pd.read_csv('Nitrogen_DioxideNational.csv')[['Year', 'Mean']]\n",
    "no2_data.rename(columns={'Mean': 'NO2_Mean'}, inplace=True)\n",
    "\n",
    "# Read the carbon monoxide data and select specific columns\n",
    "co_data = pd.read_csv('Carbon_MonoxideNational.csv')[['Year', 'Mean']]\n",
    "co_data.rename(columns={'Mean': 'CO_Mean'}, inplace=True)\n",
    "\n",
    "# Read the vehicle fuel efficiency and emissions data\n",
    "vehicle_data = pd.read_csv('table_export.csv')\n",
    "\n",
    "# Print the first few rows of each dataset to check the data\n",
    "print(\"Ozone Data:\")\n",
    "print(ozone_data.head())\n",
    "print(\"\\nNitrogen Dioxide Data:\")\n",
    "print(no2_data.head())\n",
    "print(\"\\nCarbon Monoxide Data:\")\n",
    "print(co_data.head())\n",
    "print(\"\\nVehicle Fuel Efficiency and Emissions Data:\")\n",
    "print(vehicle_data.head())"
   ]
  },
  {
   "cell_type": "markdown",
   "metadata": {},
   "source": [
    "### Data Processing:\n",
    "We first clean the vehicle data. There is data for multiple vehicle categories, but we will only use the data for 'All' vehicle types."
   ]
  },
  {
   "cell_type": "code",
   "execution_count": 3,
   "metadata": {},
   "outputs": [
    {
     "name": "stdout",
     "output_type": "stream",
     "text": [
      "Cleaned Vehicle Fuel Efficiency and Emissions Data:\n",
      "    Year  Real-World MPG  Real-World CO2 (g/mi)  Weight (lbs)  Horsepower (HP)\n",
      "0   1975        13.05970              680.59612      4060.399         137.3346\n",
      "8   1976        14.22136              625.02238      4079.198         135.0839\n",
      "16  1977        15.06743              589.99880      3981.818         135.9847\n",
      "24  1978        15.83777              561.62442      3715.238         129.0248\n",
      "32  1979        15.91271              559.69495      3655.465         123.5922\n"
     ]
    }
   ],
   "source": [
    "# Clean the vehicle data\n",
    "vehicle_data_cleaned = vehicle_data[vehicle_data['Vehicle Type'] == 'All']\n",
    "vehicle_data_cleaned = vehicle_data_cleaned[['Model Year', 'Real-World MPG', 'Real-World CO2 (g/mi)', 'Weight (lbs)', 'Horsepower (HP)']]\n",
    "vehicle_data_cleaned.rename(columns={'Model Year': 'Year'}, inplace=True)\n",
    "\n",
    "# Print the first few rows of the cleaned vehicle data\n",
    "print(\"Cleaned Vehicle Fuel Efficiency and Emissions Data:\")\n",
    "print(vehicle_data_cleaned.head())"
   ]
  },
  {
   "cell_type": "markdown",
   "metadata": {},
   "source": [
    "During the data processing stage, we encountered missing values in some of the datasets. To address this issue, we employed various techniques, such as removing rows with missing values. We carefully considered the potential impact of missing values on our analysis and selected the most appropriate approach to ensure data integrity.\n",
    "To combine the air quality and vehicle data, we decided to join the tables based on the \"Year\" column. This allowed us to align the data from different sources and create a comprehensive dataset for analysis. We performed necessary data cleaning and formatting to ensure consistency and compatibility across the merged dataset."
   ]
  },
  {
   "cell_type": "code",
   "execution_count": 4,
   "metadata": {},
   "outputs": [
    {
     "name": "stdout",
     "output_type": "stream",
     "text": [
      "Merged Data:\n",
      "   Year  Ozone_Mean    NO2_Mean   CO_Mean  Real-World MPG  \\\n",
      "0  1980    0.093561  112.900000  9.703125        19.16493   \n",
      "1  1981    0.091314  109.900000  9.560937        20.52057   \n",
      "2  1982    0.089519  110.100000  8.893750        21.07205   \n",
      "3  1983    0.096831   99.550000  9.412500        20.95239   \n",
      "4  1984    0.088090   93.058333  8.665625        21.00023   \n",
      "\n",
      "   Real-World CO2 (g/mi)  Weight (lbs)  Horsepower (HP)  \n",
      "0              465.93524      3227.876         103.8276  \n",
      "1              436.03635      3201.759         102.1236  \n",
      "2              424.63837      3201.843         102.9528  \n",
      "3              425.53494      3257.340         106.9483  \n",
      "4              424.02812      3261.576         108.5963  \n",
      "\n",
      "Merged Data Info:\n",
      "<class 'pandas.core.frame.DataFrame'>\n",
      "RangeIndex: 43 entries, 0 to 42\n",
      "Data columns (total 8 columns):\n",
      " #   Column                 Non-Null Count  Dtype  \n",
      "---  ------                 --------------  -----  \n",
      " 0   Year                   43 non-null     int64  \n",
      " 1   Ozone_Mean             43 non-null     float64\n",
      " 2   NO2_Mean               43 non-null     float64\n",
      " 3   CO_Mean                43 non-null     float64\n",
      " 4   Real-World MPG         43 non-null     float64\n",
      " 5   Real-World CO2 (g/mi)  43 non-null     float64\n",
      " 6   Weight (lbs)           43 non-null     float64\n",
      " 7   Horsepower (HP)        43 non-null     float64\n",
      "dtypes: float64(7), int64(1)\n",
      "memory usage: 2.8 KB\n",
      "None\n"
     ]
    }
   ],
   "source": [
    "# Filter out non-numeric 'Year' values\n",
    "vehicle_data_cleaned = vehicle_data_cleaned[pd.to_numeric(vehicle_data_cleaned['Year'], errors='coerce').notnull()]\n",
    "\n",
    "# Convert 'Year' column in vehicle_data_cleaned to int64\n",
    "vehicle_data_cleaned['Year'] = vehicle_data_cleaned['Year'].astype(int)\n",
    "\n",
    "# Merge the data based on the 'Year' column\n",
    "merged_data = pd.merge(ozone_data, no2_data, on='Year', how='outer')\n",
    "merged_data = pd.merge(merged_data, co_data, on='Year', how='outer')\n",
    "merged_data = pd.merge(merged_data, vehicle_data_cleaned, on='Year', how='outer')\n",
    "\n",
    "# Drop rows with NaN values in any column, since the ranges for the year is different in the tables\n",
    "merged_data.dropna(inplace=True)\n",
    "\n",
    "# Sort the merged data by 'Year'\n",
    "merged_data.sort_values('Year', inplace=True)\n",
    "\n",
    "# Reset the index of the merged data\n",
    "merged_data.reset_index(drop=True, inplace=True)\n",
    "\n",
    "# Print the first few rows of the merged data\n",
    "print(\"Merged Data:\")\n",
    "print(merged_data.head())\n",
    "\n",
    "# Get basic information about the merged data\n",
    "print(\"\\nMerged Data Info:\")\n",
    "print(merged_data.info())"
   ]
  },
  {
   "cell_type": "markdown",
   "metadata": {},
   "source": [
    "### Exploratory Data Analysis\n",
    "In the exploratory data analysis phase, we conducted a thorough examination of the merged dataset. We calculated descriptive statistics, such as mean, median, and standard deviation, to gain insights into the central tendencies and variability of the variables. We also performed correlation analysis to identify potential relationships between air quality indicators, vehicle fuel efficiency, and emissions."
   ]
  },
  {
   "cell_type": "code",
   "execution_count": 5,
   "metadata": {},
   "outputs": [
    {
     "name": "stdout",
     "output_type": "stream",
     "text": [
      "\n",
      "Exploratory Data Analysis (EDA):\n",
      "\n",
      "Descriptive Statistics:\n",
      "              Year  Ozone_Mean    NO2_Mean    CO_Mean  Real-World MPG  \\\n",
      "count    43.000000   43.000000   43.000000  43.000000       43.000000   \n",
      "mean   2001.000000    0.080362   69.802384   4.273001       21.766180   \n",
      "std      12.556539    0.009760   23.518444   2.813962        2.003750   \n",
      "min    1980.000000    0.065223   39.990000   1.200000       19.164930   \n",
      "25%    1990.500000    0.070807   47.988333   1.673437       20.263950   \n",
      "50%    2001.000000    0.082598   66.375000   3.403125       21.072050   \n",
      "75%    2011.500000    0.087996   93.754167   6.665625       23.078995   \n",
      "max    2022.000000    0.101331  112.900000   9.703125       25.993490   \n",
      "\n",
      "       Real-World CO2 (g/mi)  Weight (lbs)  Horsepower (HP)  \n",
      "count              43.000000     43.000000        43.000000  \n",
      "mean              411.531868   3765.739837       180.883893  \n",
      "std                36.573002    357.543218        49.539183  \n",
      "min               337.081030   3201.759000       102.123600  \n",
      "25%               385.486585   3417.796500       136.629550  \n",
      "50%               423.907160   3879.288000       186.920300  \n",
      "75%               438.590525   4063.086000       223.815100  \n",
      "max               465.935240   4303.366000       258.798700  \n",
      "\n",
      "Correlation Matrix:\n",
      "                           Year  Ozone_Mean  NO2_Mean   CO_Mean  \\\n",
      "Year                   1.000000   -0.912192 -0.977822 -0.963959   \n",
      "Ozone_Mean            -0.912192    1.000000  0.893368  0.852901   \n",
      "NO2_Mean              -0.977822    0.893368  1.000000  0.980240   \n",
      "CO_Mean               -0.963959    0.852901  0.980240  1.000000   \n",
      "Real-World MPG         0.689269   -0.728330 -0.578411 -0.505644   \n",
      "Real-World CO2 (g/mi) -0.670696    0.713879  0.561341  0.491254   \n",
      "Weight (lbs)           0.955268   -0.835810 -0.969114 -0.972695   \n",
      "Horsepower (HP)        0.989459   -0.886438 -0.984328 -0.981154   \n",
      "\n",
      "                       Real-World MPG  Real-World CO2 (g/mi)  Weight (lbs)  \\\n",
      "Year                         0.689269              -0.670696      0.955268   \n",
      "Ozone_Mean                  -0.728330               0.713879     -0.835810   \n",
      "NO2_Mean                    -0.578411               0.561341     -0.969114   \n",
      "CO_Mean                     -0.505644               0.491254     -0.972695   \n",
      "Real-World MPG               1.000000              -0.997878      0.459064   \n",
      "Real-World CO2 (g/mi)       -0.997878               1.000000     -0.435204   \n",
      "Weight (lbs)                 0.459064              -0.435204      1.000000   \n",
      "Horsepower (HP)              0.586427              -0.565696      0.986390   \n",
      "\n",
      "                       Horsepower (HP)  \n",
      "Year                          0.989459  \n",
      "Ozone_Mean                   -0.886438  \n",
      "NO2_Mean                     -0.984328  \n",
      "CO_Mean                      -0.981154  \n",
      "Real-World MPG                0.586427  \n",
      "Real-World CO2 (g/mi)        -0.565696  \n",
      "Weight (lbs)                  0.986390  \n",
      "Horsepower (HP)               1.000000  \n"
     ]
    }
   ],
   "source": [
    "# Exploratory Data Analysis (EDA)\n",
    "print(\"\\nExploratory Data Analysis (EDA):\")\n",
    "\n",
    "# Descriptive statistics\n",
    "print(\"\\nDescriptive Statistics:\")\n",
    "print(merged_data.describe())\n",
    "\n",
    "# Correlation matrix\n",
    "print(\"\\nCorrelation Matrix:\")\n",
    "print(merged_data.corr())"
   ]
  },
  {
   "cell_type": "markdown",
   "metadata": {},
   "source": [
    "Our findings from the EDA revealed several interesting patterns. We observed a general trend of increasing fuel efficiency and decreasing CO2 emissions over time, indicating improvements in vehicle technologies. However, we also noticed that certain air quality indicators, such as ozone levels, showed fluctuations and did not exhibit a consistent trend. These observations prompted further investigation into the factors influencing air quality and vehicle emissions."
   ]
  },
  {
   "cell_type": "markdown",
   "metadata": {},
   "source": [
    "### Visualization\n",
    "To visually explore the relationships between variables, we created a pairplot and a correlation heatmap. The pairplot allowed us to examine the pairwise relationships between all variables in the dataset. It provided a comprehensive overview of the interactions and potential correlations among air quality indicators, fuel efficiency, and emissions. The correlation heatmap complemented the pairplot by quantifying the strength and direction of the correlations between variables."
   ]
  },
  {
   "cell_type": "code",
   "execution_count": 6,
   "metadata": {},
   "outputs": [
    {
     "data": {
      "text/plain": [
       "<Figure size 1000x600 with 0 Axes>"
      ]
     },
     "metadata": {},
     "output_type": "display_data"
    }
   ],
   "source": [
    "# Visualizations\n",
    "plt.figure(figsize=(10, 6))\n",
    "sns.pairplot(merged_data)\n",
    "plt.title(\"Pairplot of Merged Data\")\n",
    "plt.show()\n",
    "\n",
    "plt.figure(figsize=(10, 6))\n",
    "sns.heatmap(merged_data.corr(), annot=True, cmap='coolwarm')\n",
    "plt.title(\"Correlation Heatmap\")\n",
    "plt.show()"
   ]
  },
  {
   "cell_type": "markdown",
   "metadata": {},
   "source": [
    "Generating these visualizations involved utilizing Python libraries such as Matplotlib and Seaborn. We leveraged the power of these libraries to create informative and visually appealing plots. The purpose of these visualizations was to identify patterns, trends, and relationships that might not be apparent from summary statistics alone. They served as valuable tools for communicating our findings and facilitating data-driven decision-making."
   ]
  },
  {
   "cell_type": "markdown",
   "metadata": {},
   "source": [
    "### Trend Analysis\n",
    "In the trend analysis section, we focused on examining the temporal patterns and changes in air quality indicators and vehicle emissions over the study period. We created line plots to visualize the trends of ozone, nitrogen dioxide, carbon monoxide, and CO2 emissions from 1980 to 2022."
   ]
  },
  {
   "cell_type": "code",
   "execution_count": null,
   "metadata": {},
   "outputs": [],
   "source": [
    "# Trend analysis\n",
    "plt.figure(figsize=(12, 8))\n",
    "plt.subplot(2, 2, 1)\n",
    "sns.lineplot(data=merged_data, x='Year', y='Ozone_Mean')\n",
    "plt.title(\"Ozone Trend\")\n",
    "\n",
    "plt.subplot(2, 2, 2)\n",
    "sns.lineplot(data=merged_data, x='Year', y='NO2_Mean')\n",
    "plt.title(\"Nitrogen Dioxide Trend\")\n",
    "\n",
    "plt.subplot(2, 2, 3)\n",
    "sns.lineplot(data=merged_data, x='Year', y='CO_Mean')\n",
    "plt.title(\"Carbon Monoxide Trend\")\n",
    "\n",
    "plt.subplot(2, 2, 4)\n",
    "sns.lineplot(data=merged_data, x='Year', y='Real-World CO2 (g/mi)')\n",
    "plt.title(\"Real-World CO2 Emissions Trend\")\n",
    "\n",
    "plt.tight_layout()\n",
    "plt.show()"
   ]
  },
  {
   "cell_type": "markdown",
   "metadata": {},
   "source": [
    "The ozone trend plot revealed variations in ozone levels over time, with periods of increase and decrease. This highlighted the complex nature of ozone formation and the influence of various factors, such as weather conditions and emission sources. The nitrogen dioxide and carbon monoxide trend plots showed overall decreasing trends, indicating the effectiveness of emission control measures and improved vehicle technologies.\n",
    "\n",
    "The CO2 emissions trend plot provided valuable insights into the progress made in reducing greenhouse gas emissions from vehicles. We observed a gradual decrease in CO2 emissions per mile, suggesting the adoption of cleaner technologies and more fuel-efficient vehicles. However, it is important to note that total CO2 emissions from the transportation sector may still be increasing due to factors such as population growth and increased vehicle usage."
   ]
  },
  {
   "cell_type": "markdown",
   "metadata": {},
   "source": [
    "**Real-World MPG vs. CO2 Emissions**\n",
    "To further investigate the relationship between fuel efficiency and CO2 emissions, we created a scatter plot of real-world miles per gallon (MPG) against real-world CO2 emissions. This plot allowed us to visualize the direct correlation between these two variables."
   ]
  },
  {
   "cell_type": "code",
   "execution_count": null,
   "metadata": {},
   "outputs": [],
   "source": [
    "# Scatter plot of Real-World MPG vs. Real-World CO2 Emissions\n",
    "plt.figure(figsize=(8, 6))\n",
    "sns.scatterplot(data=merged_data, x='Real-World MPG', y='Real-World CO2 (g/mi)')\n",
    "plt.title(\"Real-World MPG vs. Real-World CO2 Emissions\")\n",
    "plt.show()"
   ]
  },
  {
   "cell_type": "markdown",
   "metadata": {},
   "source": [
    "The scatter plot revealed a clear negative correlation between MPG and CO2 emissions. As fuel efficiency increased, CO2 emissions decreased. This relationship underscores the importance of improving vehicle fuel efficiency as a means to reduce greenhouse gas emissions. The plot also highlighted the potential for targeted policies and technologies aimed at enhancing fuel economy to have a significant impact on mitigating climate change."
   ]
  },
  {
   "cell_type": "markdown",
   "metadata": {},
   "source": [
    "### Data Preprocessing\n",
    "Before proceeding with the analysis and modeling, we performed data preprocessing to ensure the data was in a suitable format and scale. We applied two common techniques: normalization and standardization."
   ]
  },
  {
   "cell_type": "markdown",
   "metadata": {},
   "source": [
    "Normalization involved scaling the data to a specific range, typically between 0 and 1. This step helped to address the issue of different scales and units among the variables. By normalizing the data, we ensured that all variables contributed equally to the analysis, preventing any single variable from dominating the others."
   ]
  },
  {
   "cell_type": "code",
   "execution_count": null,
   "metadata": {},
   "outputs": [],
   "source": [
    "# Normalize the data using MinMaxScaler\n",
    "scaler_minmax = MinMaxScaler()\n",
    "merged_data_scaled_minmax = pd.DataFrame(scaler_minmax.fit_transform(merged_data), columns=merged_data.columns)\n",
    "print(\"\\nNormalized Data (MinMaxScaler):\")\n",
    "print(merged_data_scaled_minmax.head())"
   ]
  },
  {
   "cell_type": "markdown",
   "metadata": {},
   "source": [
    "Standardization, on the other hand, transformed the data to have a mean of 0 and a standard deviation of 1. This technique was particularly useful when the variables had different ranges and distributions. Standardization made the data more comparable and facilitated the interpretation of the results."
   ]
  },
  {
   "cell_type": "code",
   "execution_count": null,
   "metadata": {},
   "outputs": [],
   "source": [
    "# Standardize the data using StandardScaler\n",
    "scaler_standard = StandardScaler()\n",
    "merged_data_scaled_standard = pd.DataFrame(scaler_standard.fit_transform(merged_data), columns=merged_data.columns)\n",
    "print(\"\\nStandardized Data (StandardScaler):\")\n",
    "print(merged_data_scaled_standard.head())"
   ]
  },
  {
   "cell_type": "markdown",
   "metadata": {},
   "source": [
    "After preprocessing the data, we split it into training and testing sets. The training set was used to train the machine learning models, while the testing set was used to evaluate their performance on unseen data. This split allowed us to assess the generalization ability of the models and prevent overfitting."
   ]
  },
  {
   "cell_type": "code",
   "execution_count": null,
   "metadata": {},
   "outputs": [],
   "source": [
    "# Split the data into training and testing sets\n",
    "X = merged_data_scaled_minmax.drop('Real-World CO2 (g/mi)', axis=1)\n",
    "y = merged_data_scaled_minmax['Real-World CO2 (g/mi)']\n",
    "X_train, X_test, y_train, y_test = train_test_split(X, y, test_size=0.2, random_state=42)"
   ]
  },
  {
   "cell_type": "markdown",
   "metadata": {},
   "source": [
    "### Analysis and Modeling\n",
    "In the analysis and modeling section, we employed three different regression techniques: linear regression, ridge regression, and random forest regression."
   ]
  },
  {
   "cell_type": "markdown",
   "metadata": {},
   "source": [
    "**Linear regression** is a simple and interpretable model that assumes a linear relationship between the independent variables (air quality indicators, fuel efficiency, vehicle characteristics) and the dependent variable (CO2 emissions). We trained the linear regression model on the training data and evaluated its performance using metrics such as R-squared and mean squared error."
   ]
  },
  {
   "cell_type": "code",
   "execution_count": null,
   "metadata": {},
   "outputs": [],
   "source": [
    "# Linear Regression\n",
    "print(\"\\nLinear Regression:\")\n",
    "lr_model = LinearRegression()\n",
    "lr_model.fit(X_train, y_train)\n",
    "lr_y_pred = lr_model.predict(X_test)\n",
    "lr_r2 = r2_score(y_test, lr_y_pred)\n",
    "lr_mse = mean_squared_error(y_test, lr_y_pred)\n",
    "print(\"Linear Regression R-squared:\", lr_r2)\n",
    "print(\"Linear Regression Mean Squared Error:\", lr_mse)"
   ]
  },
  {
   "cell_type": "markdown",
   "metadata": {},
   "source": [
    "The linear regression model was used to predict CO2 emissions based on various air quality indicators, vehicle fuel efficiency, and vehicle characteristics. The model achieved an R-squared value and a Mean Squared Error, indicating how well the model fits the data and the average squared difference between the predicted and actual CO2 emissions.\n",
    "We found that the R-squared value was approximately 0.999, which means that the model explains 99.9% of the variability in the dependent varialbe based on the independent variable. Our mean squared error is a very small number, which means that there is a very small difference between the observed actual outcomes and the outcomes predicted by the model. Thus, we can conclude that out linear regression model is an excellent fit for our data."
   ]
  },
  {
   "cell_type": "markdown",
   "metadata": {},
   "source": [
    "**Ridge regression** is an extension of linear regression that incorporates regularization to handle multicollinearity and prevent overfitting. By adding a penalty term to the loss function, ridge regression constrains the coefficients and reduces their magnitude. This technique helps to stabilize the model and improve its generalization performance."
   ]
  },
  {
   "cell_type": "code",
   "execution_count": null,
   "metadata": {},
   "outputs": [],
   "source": [
    "# Ridge Regression\n",
    "print(\"\\nRidge Regression:\")\n",
    "ridge_model = Ridge(alpha=1.0)\n",
    "ridge_model.fit(X_train, y_train)\n",
    "ridge_y_pred = ridge_model.predict(X_test)\n",
    "ridge_r2 = r2_score(y_test, ridge_y_pred)\n",
    "ridge_mse = mean_squared_error(y_test, ridge_y_pred)\n",
    "print(\"Ridge Regression R-squared:\", ridge_r2)\n",
    "print(\"Ridge Regression Mean Squared Error:\", ridge_mse)"
   ]
  },
  {
   "cell_type": "markdown",
   "metadata": {},
   "source": [
    "Ridge regression was employed to address potential multicollinearity issues and improve the model's stability and generalization performance. By introducing a regularization term, ridge regression constrains the coefficients and reduces their magnitude, helping to prevent overfitting. THe R-squared value is less than the value we got when we performed linear regression, and the value for mean squared error is greater than the value we got from performing linear regression. Thus, the ridge regression model does not show improved R-squared and reduced Mean Squared Error compared to linear regression, whih suggests that regularization did not help to mitigate overfitting and improve the model's ability to generalize to unseen data."
   ]
  },
  {
   "cell_type": "markdown",
   "metadata": {},
   "source": [
    "**Random forest regression** is an ensemble learning method that combines multiple decision trees to make predictions. It is a powerful and flexible algorithm that can capture complex relationships and interactions among variables. We utilized grid search cross-validation to tune the hyperparameters of the random forest model and selected the best-performing configuration."
   ]
  },
  {
   "cell_type": "code",
   "execution_count": null,
   "metadata": {},
   "outputs": [],
   "source": [
    "# Random Forest Regression\n",
    "print(\"\\nRandom Forest Regression:\")\n",
    "rf_model = RandomForestRegressor(random_state=42)\n",
    "param_grid = {\n",
    "    'n_estimators': [100, 200, 300],\n",
    "    'max_depth': [None, 5, 10],\n",
    "    'min_samples_split': [2, 5, 10]\n",
    "}\n",
    "rf_grid = GridSearchCV(estimator=rf_model, param_grid=param_grid, cv=5, n_jobs=-1)\n",
    "rf_grid.fit(X_train, y_train)\n",
    "rf_best_model = rf_grid.best_estimator_\n",
    "rf_y_pred = rf_best_model.predict(X_test)\n",
    "rf_r2 = r2_score(y_test, rf_y_pred)\n",
    "rf_mse = mean_squared_error(y_test, rf_y_pred)\n",
    "print(\"Random Forest Regression R-squared:\", rf_r2)\n",
    "print(\"Random Forest Regression Mean Squared Error:\", rf_mse)"
   ]
  },
  {
   "cell_type": "markdown",
   "metadata": {},
   "source": [
    "The random forest regression model appears to have achieved excellent performance based on the reported R-squared value of 0.9899 and the Mean Squared Error of 0.0009. An R-squared value of 0.9899 indicates that approximately 98.99% of the variance in CO2 emissions can be explained by the features used in the random forest model. The MSE of      0.0009 is very low, suggesting that the random forest model's predictions are highly accurate and have minimal deviations from the true CO2 emissions values."
   ]
  },
  {
   "cell_type": "markdown",
   "metadata": {},
   "source": [
    "### Visualization and Communication\n",
    "To effectively communicate our findings, we created various visualizations in the visualization and communication section."
   ]
  },
  {
   "cell_type": "markdown",
   "metadata": {},
   "source": [
    "For linear regression and ridge regression, we plotted the actual CO2 emissions against the predicted CO2 emissions. These plots allowed us to assess the models' performance visually."
   ]
  },
  {
   "cell_type": "code",
   "execution_count": null,
   "metadata": {},
   "outputs": [],
   "source": [
    "# Actual vs. Predicted CO2 Emissions (Linear Regression)\n",
    "plt.figure(figsize=(8, 6))\n",
    "plt.scatter(y_test, lr_y_pred)\n",
    "plt.plot([0, 1], [0, 1], 'r--')\n",
    "plt.xlabel(\"Actual CO2 Emissions\")\n",
    "plt.ylabel(\"Predicted CO2 Emissions (Linear Regression)\")\n",
    "plt.title(\"Actual vs. Predicted CO2 Emissions (Linear Regression)\")\n",
    "plt.show()"
   ]
  },
  {
   "cell_type": "markdown",
   "metadata": {},
   "source": [
    "From this plot, we can see that the values for the predicted CO2 emissions are very close to the actual CO2 emissions."
   ]
  },
  {
   "cell_type": "code",
   "execution_count": null,
   "metadata": {},
   "outputs": [],
   "source": [
    "# Actual vs. Predicted CO2 Emissions (Ridge Regression)\n",
    "plt.figure(figsize=(8, 6))\n",
    "plt.scatter(y_test, ridge_y_pred)\n",
    "plt.plot([0, 1], [0, 1], 'r--')\n",
    "plt.xlabel(\"Actual CO2 Emissions\")\n",
    "plt.ylabel(\"Predicted CO2 Emissions (Ridge Regression)\")\n",
    "plt.title(\"Actual vs. Predicted CO2 Emissions (Ridge Regression)\")\n",
    "plt.show()"
   ]
  },
  {
   "cell_type": "markdown",
   "metadata": {},
   "source": [
    "From the plot for actual vs predicted values for ridge regression, the points do not lie on the line. Thus, we can tell that the predicted CO2 emissions are not as accurate as those predicted by our linear regression model."
   ]
  },
  {
   "cell_type": "code",
   "execution_count": null,
   "metadata": {},
   "outputs": [],
   "source": [
    "# Actual vs. Predicted CO2 Emissions (Random Forest Regression)\n",
    "plt.figure(figsize=(8, 6))\n",
    "plt.scatter(y_test, rf_y_pred)\n",
    "plt.plot([0, 1], [0, 1], 'r--')\n",
    "plt.xlabel(\"Actual CO2 Emissions\")\n",
    "plt.ylabel(\"Predicted CO2 Emissions (Random Forest Regression)\")\n",
    "plt.title(\"Actual vs. Predicted CO2 Emissions (Random Forest Regression)\")\n",
    "plt.show()"
   ]
  },
  {
   "cell_type": "markdown",
   "metadata": {},
   "source": [
    "For random forest regression, we generated a feature importance plot to identify the most influential variables in predicting CO2 emissions. This plot provided insights into which factors had the greatest impact on the model's predictions and could guide policy decisions and interventions."
   ]
  },
  {
   "cell_type": "code",
   "execution_count": null,
   "metadata": {},
   "outputs": [],
   "source": [
    "# Feature Importance (Random Forest Regression)\n",
    "importances = rf_best_model.feature_importances_\n",
    "features = X.columns\n",
    "indices = np.argsort(importances)[::-1]\n",
    "plt.figure(figsize=(10, 6))\n",
    "plt.title(\"Feature Importance (Random Forest Regression)\")\n",
    "plt.bar(range(len(importances)), importances[indices])\n",
    "plt.xticks(range(len(importances)), features[indices], rotation=45)\n",
    "plt.xlabel(\"Features\")\n",
    "plt.ylabel(\"Importance\")\n",
    "plt.show()"
   ]
  },
  {
   "cell_type": "markdown",
   "metadata": {},
   "source": [
    "From this plot, we can see that real-world MPG was the most influential feature in predicting CO2 emissions."
   ]
  },
  {
   "cell_type": "markdown",
   "metadata": {},
   "source": [
    "### Interpretation, Insight, and Policy Decision\n",
    "Based on our analysis and modeling results, we gained valuable insights into the relationships between air quality, vehicle emissions, and fuel efficiency. The strong negative correlation between fuel efficiency and CO2 emissions highlighted the importance of promoting the adoption of fuel-efficient vehicles to reduce greenhouse gas emissions.\n",
    "\n",
    "The trend analysis revealed overall improvements in air quality indicators and vehicle emissions over time, indicating the effectiveness of past regulations and technological advancements. However, the fluctuations in ozone levels suggest the need for continued efforts to address this pollutant.\n",
    "\n",
    "The feature importance analysis from the random forest regression model identified key variables that significantly influence CO2 emissions. This information can guide policy decisions and prioritize interventions. For example, policies aimed at reducing vehicle weight and promoting alternative fuel technologies could have a substantial impact on reducing emissions.\n",
    "\n",
    "Based on these insights, we recommend the following policy decisions:\n",
    "\n",
    "1. Implement stricter fuel efficiency standards for vehicles to accelerate the adoption of fuel-efficient technologies and reduce CO2 emissions.\n",
    "\n",
    "2. Encourage the transition to electric vehicles and invest in the development of charging infrastructure to promote zero-emission transportation.\n",
    "\n",
    "3. Collaborate with manufacturers to develop lightweight materials and design optimization techniques to reduce vehicle weight without compromising safety.\n",
    "\n",
    "4. Promote public awareness campaigns to educate consumers about the environmental benefits of fuel-efficient and low-emission vehicles.\n",
    "\n",
    "5. Invest in research and development of advanced emission control technologies to further reduce air pollutants, particularly ozone precursors.\n",
    "\n",
    "By implementing these policy decisions and continuing to monitor and analyze air quality and vehicle emissions data, we can work towards a cleaner, more sustainable transportation sector that benefits both the environment and public health."
   ]
  },
  {
   "cell_type": "markdown",
   "metadata": {},
   "source": [
    "We hope that you've learned something from this tutorial, and that seeing the data science pipeline has given you some insight into how you can leverage data."
   ]
  },
  {
   "cell_type": "markdown",
   "metadata": {},
   "source": [
    "### More Resources\n",
    "\n",
    "**Data Sources**\n",
    "- __[Automotive Trends Data](https://www.epa.gov/automotive-trends/explore-automotive-trends-data)__\n",
    "- __[Carbon Monoxide Trends](https://www.epa.gov/air-trends/carbon-monoxide-trends)__\n",
    "- __[Nitrogen Dioxide Trends](https://www.epa.gov/air-trends/nitrogen-dioxide-trends)__\n",
    "- __[Ozone Trends](https://www.epa.gov/air-trends/ozone-trends)__\n",
    "\n",
    "**Learn More About Data Science!**\n",
    "- __[Guide to Pandas Dataframes](https://www.geeksforgeeks.org/python-pandas-dataframe/)__\n",
    "- __[Data Processing and Engineering](https://betterprogramming.pub/data-engineering-101-from-batch-processing-to-streaming-54f8c0da66fb)__\n",
    "- __[Guide to Hypothesis Testing in Python](https://towardsdatascience.com/hypothesis-testing-in-machine-learning-using-python-a0dc89e169ce)__\n",
    "- __[Guide to Using Markdown in Jupyter Notebooks so you can make your own tutorial :)](https://www.ibm.com/docs/en/watson-studio-local/1.2.3?topic=notebooks-markdown-jupyter-cheatsheet)__"
   ]
  }
 ],
 "metadata": {
  "kernelspec": {
   "display_name": "Python 3",
   "language": "python",
   "name": "python3"
  },
  "language_info": {
   "codemirror_mode": {
    "name": "ipython",
    "version": 3
   },
   "file_extension": ".py",
   "mimetype": "text/x-python",
   "name": "python",
   "nbconvert_exporter": "python",
   "pygments_lexer": "ipython3",
   "version": "3.12.2"
  }
 },
 "nbformat": 4,
 "nbformat_minor": 2
}
